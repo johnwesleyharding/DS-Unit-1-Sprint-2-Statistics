{
  "nbformat": 4,
  "nbformat_minor": 0,
  "metadata": {
    "colab": {
      "name": "JWH_assignment_DS_123_Introduction_to_Bayesian_Inference_Assignment.ipynb",
      "provenance": [],
      "include_colab_link": true
    },
    "kernelspec": {
      "name": "python3",
      "display_name": "Python 3"
    }
  },
  "cells": [
    {
      "cell_type": "markdown",
      "metadata": {
        "id": "view-in-github",
        "colab_type": "text"
      },
      "source": [
        "<a href=\"https://colab.research.google.com/github/johnwesleyharding/DS-Unit-1-Sprint-2-Statistics/blob/master/JWH_assignment_DS_123_Introduction_to_Bayesian_Inference_Assignment.ipynb\" target=\"_parent\"><img src=\"https://colab.research.google.com/assets/colab-badge.svg\" alt=\"Open In Colab\"/></a>"
      ]
    },
    {
      "cell_type": "markdown",
      "metadata": {
        "id": "H7OLbevlbd_Z",
        "colab_type": "text"
      },
      "source": [
        "# Lambda School Data Science Module 123\n",
        "\n",
        "## Introduction to Bayesian Inference\n",
        "\n",
        "\n"
      ]
    },
    {
      "cell_type": "markdown",
      "metadata": {
        "id": "P-DzzRk5bf0z",
        "colab_type": "text"
      },
      "source": [
        "## Assignment - Code it up!\n",
        "\n",
        "We used pure math to apply Bayes Theorem to drug tests. Now write Python code to reproduce the results! This is purposefully open ended - you'll have to think about how you should represent probabilities and events. You can and should look things up.\n",
        "\n",
        "Specific goals/targets:\n",
        "\n",
        "### 1) Write a function \n",
        "\n",
        "`def prob_drunk_given_positive(prob_drunk_prior, false_positive_rate):` \n",
        "\n",
        "You should only truly need these two values in order to apply Bayes Theorem. In this example, imagine that individuals are taking a breathalyzer test with an 8% false positive rate, a 100% true positive rate, and that our prior belief about drunk driving in the population is 1/1000. \n",
        " - What is the probability that a person is drunk after one positive breathalyzer test?\n",
        " - What is the probability that a person is drunk after two positive breathalyzer tests?\n",
        " - How many positive breathalyzer tests are needed in order to have a probability that's greater than 95% that a person is drunk beyond the legal limit?"
      ]
    },
    {
      "cell_type": "code",
      "metadata": {
        "id": "ucsQ51-86zf4",
        "colab_type": "code",
        "colab": {}
      },
      "source": [
        "#rate of drunk drivers in the population of drivers\n",
        "drunk = 1/1000\n",
        "falsep = .08\n",
        "falsen = 0"
      ],
      "execution_count": 0,
      "outputs": []
    },
    {
      "cell_type": "code",
      "metadata": {
        "id": "Lfr35xA2Zy03",
        "colab_type": "code",
        "colab": {
          "base_uri": "https://localhost:8080/",
          "height": 34
        },
        "outputId": "5796f4ee-98a5-4657-8ffa-07fc6277a4f8"
      },
      "source": [
        "# chance a driver who tests positive is drunk - assuming tests occur with no indication of drunkeness\n",
        "drunk * (1 - falsen) / ((drunk * (1 - falsen) + (1 - drunk) * falsep))"
      ],
      "execution_count": 2,
      "outputs": [
        {
          "output_type": "execute_result",
          "data": {
            "text/plain": [
              "0.012357884330202669"
            ]
          },
          "metadata": {
            "tags": []
          },
          "execution_count": 2
        }
      ]
    },
    {
      "cell_type": "code",
      "metadata": {
        "id": "5g7KZjHSd9tV",
        "colab_type": "code",
        "colab": {
          "base_uri": "https://localhost:8080/",
          "height": 34
        },
        "outputId": "edf08055-554a-4670-d28d-0f780f55c894"
      },
      "source": [
        "# chance a driver who tests negative is sober - (with `falsen = 0 only` sober drivers test negative)\n",
        "(1 - drunk) *  (1 - falsep) / (drunk * falsen + (1 - drunk) * (1 - falsep))"
      ],
      "execution_count": 3,
      "outputs": [
        {
          "output_type": "execute_result",
          "data": {
            "text/plain": [
              "1.0"
            ]
          },
          "metadata": {
            "tags": []
          },
          "execution_count": 3
        }
      ]
    },
    {
      "cell_type": "markdown",
      "metadata": {
        "id": "nNdrTByLhB8b",
        "colab_type": "text"
      },
      "source": [
        "Maybe there's a way to consider the effectiveness of an officer picking drivers to test?  And the rate at which an officer suspects you are drunk could be relevant to subsequent tests?  Here the event would be a test given getting stopped on suspicion of dui.\n",
        "\n",
        "Or maybe we can generate a driving sample for a given night that might have more drunk drivers?  Like a checkpoint after a football game.\n",
        "\n",
        "But here's what it says to do -- \"If we have the same individual who tested positive the first time take the drug test a second time then the posterior probability from our the first test becomes our new prior during the second application. What is the probability that a person is a drug user after two positive drug tests in a row?\""
      ]
    },
    {
      "cell_type": "code",
      "metadata": {
        "id": "qQve6dO46d8M",
        "colab_type": "code",
        "colab": {}
      },
      "source": [
        "from scipy import stats\n",
        "import numpy as np"
      ],
      "execution_count": 0,
      "outputs": []
    },
    {
      "cell_type": "code",
      "metadata": {
        "id": "w0G0t3ds24K2",
        "colab_type": "code",
        "colab": {}
      },
      "source": [
        "def stupidassumptionfunction(drunk, falsep, falsen = 0):\n",
        "  \n",
        "  print(drunk, falsep)\n",
        "  timestested = 0\n",
        "    \n",
        "  while drunk < .95:\n",
        "    \n",
        "    timestested +=1\n",
        "    drunk = drunk * (1 - falsen) / ((drunk * (1 - falsen) + (1 - drunk) * falsep))\n",
        "    \n",
        "    print(f'Chance driver is drunk after {timestested} tests is: {100*round(drunk,3)}%')"
      ],
      "execution_count": 0,
      "outputs": []
    },
    {
      "cell_type": "code",
      "metadata": {
        "id": "h6rbeIO7gyv2",
        "colab_type": "code",
        "colab": {
          "base_uri": "https://localhost:8080/",
          "height": 102
        },
        "outputId": "34027108-ffb1-4f1d-c18b-8ce750ac8d37"
      },
      "source": [
        "stupidassumptionfunction(drunk, falsep)"
      ],
      "execution_count": 11,
      "outputs": [
        {
          "output_type": "stream",
          "text": [
            "0.001 0.08\n",
            "Chance driver is drunk after 1 tests is: 1.2%\n",
            "Chance driver is drunk after 2 tests is: 13.5%\n",
            "Chance driver is drunk after 3 tests is: 66.2%\n",
            "Chance driver is drunk after 4 tests is: 96.1%\n"
          ],
          "name": "stdout"
        }
      ]
    },
    {
      "cell_type": "markdown",
      "metadata": {
        "id": "yaWCysfS3Q4W",
        "colab_type": "text"
      },
      "source": [
        "This whole exercise seems potentially misguided in the sense that we are making assumptions about our data that the method of error testing or false positive rates may not account for.  We're not considering the phenomenon to which the error is related.  In other words, there's no reason to take multiple samples to establish higher certainty.  If we did the same thing with the case of the poppyseed bagel we would think we had developed more certainty but the error rate wouldn't really change unless you waited a long time for the resample.  And in the case of the impaired driver, waiting some amount of time to resample would reduce accuracy unless the rate of alcohol consumption and metabolization was constant - which is slightly more absurd than an ongoing consumption of poppyseed bagels."
      ]
    },
    {
      "cell_type": "markdown",
      "metadata": {
        "id": "8miwgjuw2qNr",
        "colab_type": "text"
      },
      "source": [
        "### 2) Explore `scipy.stats.bayes_mvs`  \n",
        "Read its documentation, and experiment with it on data you've tested in other ways earlier this week.\n",
        " - Create a visualization comparing the results of a Bayesian approach to a traditional/frequentist approach. (with a large sample size they should look close to identical, however, take this opportunity to practice visualizing condfidence intervals in general. The following are some potential ways that you could visualize confidence intervals on your graph:\n",
        "  - [Matplotlib Error Bars](https://matplotlib.org/3.1.1/api/_as_gen/matplotlib.pyplot.errorbar.html)\n",
        "  - [Seaborn barplot with error bars](https://seaborn.pydata.org/generated/seaborn.barplot.html)\n",
        "  - [Vertical ines to show bounds of confidence interval](https://www.simplypsychology.org/confidence-interval.jpg)\n",
        "  - [Confidence Intervals on Box Plots](https://matplotlib.org/3.1.1/api/_as_gen/matplotlib.axes.Axes.boxplot.html)"
      ]
    },
    {
      "cell_type": "code",
      "metadata": {
        "id": "4JXDkl99v-sz",
        "colab_type": "code",
        "colab": {
          "base_uri": "https://localhost:8080/",
          "height": 34
        },
        "outputId": "fb8c3014-75e3-4a15-ad9e-403b32d82ac1"
      },
      "source": [
        "? scipy.stats.bayes_mvs"
      ],
      "execution_count": 7,
      "outputs": [
        {
          "output_type": "stream",
          "text": [
            "Object `scipy.stats.bayes_mvs` not found.\n"
          ],
          "name": "stdout"
        }
      ]
    },
    {
      "cell_type": "markdown",
      "metadata": {
        "id": "OVeYhL9hCXsS",
        "colab_type": "text"
      },
      "source": [
        "I found the documentation online, I think I need to figure out Tuesday's visualizations before I try this."
      ]
    },
    {
      "cell_type": "code",
      "metadata": {
        "id": "SQJtKscNwMyg",
        "colab_type": "code",
        "colab": {}
      },
      "source": [
        ""
      ],
      "execution_count": 0,
      "outputs": []
    },
    {
      "cell_type": "code",
      "metadata": {
        "id": "xpVhZyUnbf7o",
        "colab_type": "code",
        "colab": {}
      },
      "source": [
        ""
      ],
      "execution_count": 0,
      "outputs": []
    },
    {
      "cell_type": "markdown",
      "metadata": {
        "id": "IEm198jI2qUA",
        "colab_type": "text"
      },
      "source": [
        "### 3) In your own words, summarize the difference between Bayesian and Frequentist statistics\n",
        "\n",
        "If you're unsure where to start, check out [this blog post of Bayes theorem with Python](https://dataconomy.com/2015/02/introduction-to-bayes-theorem-with-python/)."
      ]
    },
    {
      "cell_type": "markdown",
      "metadata": {
        "id": "ndfkWfN6-jah",
        "colab_type": "text"
      },
      "source": [
        "The idea I have of this concept is Bayesian statistics allows deviation from a normal distribution when there is extra information for a particular sample or data point.  Based on the example here with drunk driving it seems like the deviations can be substantial.  But I still need a basic conceptual overview of all of this."
      ]
    },
    {
      "cell_type": "markdown",
      "metadata": {
        "id": "uWgWjp3PQ3Sq",
        "colab_type": "text"
      },
      "source": [
        "## Resources"
      ]
    },
    {
      "cell_type": "markdown",
      "metadata": {
        "id": "QRgHqmYIQ9qn",
        "colab_type": "text"
      },
      "source": [
        "- [Worked example of Bayes rule calculation](https://en.wikipedia.org/wiki/Bayes'_theorem#Examples) (helpful as it fully breaks out the denominator)\n",
        "- [Source code for mvsdist in scipy](https://github.com/scipy/scipy/blob/90534919e139d2a81c24bf08341734ff41a3db12/scipy/stats/morestats.py#L139)"
      ]
    },
    {
      "cell_type": "markdown",
      "metadata": {
        "id": "GP7Jv1XvwtkX",
        "colab_type": "text"
      },
      "source": [
        "## Stretch Goals:\n",
        "\n",
        "- Go back and study the content from Modules 1 & 2 to make sure that you're really comfortable with them.\n",
        "- Apply a Bayesian technique to a problem you previously worked (in an assignment or project work) on from a frequentist (standard) perspective\n",
        "- Check out [PyMC3](https://docs.pymc.io/) (note this goes beyond hypothesis tests into modeling) - read the guides and work through some examples\n",
        "- Take PyMC3 further - see if you can build something with it!"
      ]
    },
    {
      "cell_type": "code",
      "metadata": {
        "id": "iDi0eFr1x-v_",
        "colab_type": "code",
        "colab": {}
      },
      "source": [
        ""
      ],
      "execution_count": 0,
      "outputs": []
    }
  ]
}